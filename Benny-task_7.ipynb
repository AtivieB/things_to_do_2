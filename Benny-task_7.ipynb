{
 "cells": [
  {
   "cell_type": "markdown",
   "id": "f9938944-1f3e-4249-8355-170827532a5f",
   "metadata": {},
   "source": [
    "## 13.1\n",
    "\n",
    "Write the current date as a string to the text file today.txt."
   ]
  },
  {
   "cell_type": "code",
   "execution_count": 12,
   "id": "542e3ff8-7423-4ef0-a4bb-d15706b0b473",
   "metadata": {},
   "outputs": [],
   "source": [
    "from datetime import datetime\n",
    "\n",
    "# Get the current date as a string\n",
    "today_date = datetime.now().strftime('%Y-%m-%d')\n",
    "\n",
    "# Write the current date to the text file today.txt\n",
    "with open('today.txt', 'w') as file:\n",
    "    file.write(today_date)"
   ]
  },
  {
   "cell_type": "markdown",
   "id": "5bed5b15-f5b5-49f9-98f7-3bd530714928",
   "metadata": {},
   "source": [
    "## 13.2"
   ]
  },
  {
   "cell_type": "markdown",
   "id": "a9d7baab-dca8-4efc-ae5b-1abdec640c06",
   "metadata": {},
   "source": [
    "Read the text file today.txt into the string today_string"
   ]
  },
  {
   "cell_type": "code",
   "execution_count": 19,
   "id": "a0bb81cd-9885-4b7f-bc14-2f02dadf4e6b",
   "metadata": {},
   "outputs": [
    {
     "name": "stdout",
     "output_type": "stream",
     "text": [
      "2024-10-06\n"
     ]
    }
   ],
   "source": [
    "with open('today.txt', 'r') as file:\n",
    "    today_string = file.read()\n",
    "\n",
    "print(today_string)"
   ]
  },
  {
   "cell_type": "markdown",
   "id": "73a26bbb-2fb8-4cdf-bc97-45f3e942c7d0",
   "metadata": {},
   "source": [
    "## 13.3"
   ]
  },
  {
   "cell_type": "markdown",
   "id": "15956a40-91cf-4fcb-8512-f5d198143f1d",
   "metadata": {},
   "source": [
    "Parse the date from today_string"
   ]
  },
  {
   "cell_type": "code",
   "execution_count": 23,
   "id": "002ef8f4-ee02-4850-a448-7102e41f7b82",
   "metadata": {},
   "outputs": [
    {
     "data": {
      "text/plain": [
       "('2024-10-06', datetime.datetime(2024, 10, 6, 0, 0))"
      ]
     },
     "execution_count": 23,
     "metadata": {},
     "output_type": "execute_result"
    }
   ],
   "source": [
    "# Step 13.3: Parse the date from today_string\n",
    "parsed_date = datetime.strptime(today_string, '%Y-%m-%d')\n",
    "\n",
    "today_string, parsed_date"
   ]
  },
  {
   "cell_type": "markdown",
   "id": "1fef5cb3-f446-4c12-a994-131bfce8bfa1",
   "metadata": {},
   "source": [
    "## 15.1\n",
    "\n",
    "Use multiprocessing to create three separate processes. Make each\r\n",
    " one wait a random number of seconds between zero and one, print the\r\n",
    " current time, and then exit"
   ]
  },
  {
   "cell_type": "code",
   "execution_count": 42,
   "id": "5828ba49-56bd-44e4-aed5-3a30258b7526",
   "metadata": {},
   "outputs": [
    {
     "name": "stdout",
     "output_type": "stream",
     "text": [
      "[<Process name='Process-1' parent=9728 initial>]\n",
      "[<Process name='Process-1' pid=24692 parent=9728 started>, <Process name='Process-2' parent=9728 initial>]\n",
      "[<Process name='Process-1' pid=24692 parent=9728 started>, <Process name='Process-2' pid=30036 parent=9728 started>, <Process name='Process-3' parent=9728 initial>]\n",
      "<Process name='Process-1' pid=24692 parent=9728 stopped exitcode=1>\n",
      "<Process name='Process-2' pid=30036 parent=9728 stopped exitcode=1>\n",
      "<Process name='Process-3' pid=18688 parent=9728 stopped exitcode=1>\n"
     ]
    }
   ],
   "source": [
    "import multiprocessing\n",
    "import time\n",
    "import random\n",
    "from datetime import datetime\n",
    "\n",
    "# Function to be run by each process\n",
    "def process_task():\n",
    "    # Sleep for a random amount of time between 0 and 1 second\n",
    "    sleep_time = random.uniform(0, 1)\n",
    "    time.sleep(sleep_time)\n",
    "    \n",
    "    # Print the current time\n",
    "    print(f\"Process {multiprocessing.current_process().name} - Time: {datetime.now().strftime('%H:%M:%S')}\")\n",
    "\n",
    "if __name__ == \"__main__\":\n",
    "    # Create three separate processes\n",
    "    processes = []\n",
    "    for i in range(3):\n",
    "        process = multiprocessing.Process(target=process_task, name=f'Process-{i+1}')\n",
    "        processes.append(process)\n",
    "        process.start()\n",
    "    \n",
    "    # Wait for all processes to complete\n",
    "    for process in processes:\n",
    "        process.join()\n"
   ]
  },
  {
   "cell_type": "code",
   "execution_count": 44,
   "id": "8683cc87-f763-4a6f-90e6-085159da1b30",
   "metadata": {},
   "outputs": [
    {
     "ename": "SyntaxError",
     "evalue": "invalid syntax (4056710537.py, line 1)",
     "output_type": "error",
     "traceback": [
      "\u001b[1;36m  Cell \u001b[1;32mIn[44], line 1\u001b[1;36m\u001b[0m\n\u001b[1;33m    Process Process-2 - Time: 23:53:11\u001b[0m\n\u001b[1;37m            ^\u001b[0m\n\u001b[1;31mSyntaxError\u001b[0m\u001b[1;31m:\u001b[0m invalid syntax\n"
     ]
    }
   ],
   "source": [
    "# Output after running in terminal\n",
    "Process Process-2 - Time: 23:53:11\n",
    "Process Process-1 - Time: 23:53:11\n",
    "Process Process-3 - Time: 23:53:12"
   ]
  },
  {
   "cell_type": "code",
   "execution_count": null,
   "id": "6d4b797c-3965-4d66-a67b-744289abc927",
   "metadata": {},
   "outputs": [],
   "source": []
  }
 ],
 "metadata": {
  "kernelspec": {
   "display_name": "Python 3 (ipykernel)",
   "language": "python",
   "name": "python3"
  },
  "language_info": {
   "codemirror_mode": {
    "name": "ipython",
    "version": 3
   },
   "file_extension": ".py",
   "mimetype": "text/x-python",
   "name": "python",
   "nbconvert_exporter": "python",
   "pygments_lexer": "ipython3",
   "version": "3.11.7"
  }
 },
 "nbformat": 4,
 "nbformat_minor": 5
}
